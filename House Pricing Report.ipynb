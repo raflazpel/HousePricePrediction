{
 "cells": [
  {
   "cell_type": "markdown",
   "metadata": {},
   "source": [
    "# \"House Prices: Advanced Regression Techniques\" Kaggle competition\n",
    "\n",
    "## Authors: David Fernández & Rafael Lazcano\n",
    "\n",
    "## Introduction:\n",
    "\n",
    "This document is the final report for the \"Artificial Intelligence and Machine Learning\" subject. It illustrates a whole process of prediction, especifically the challenge of modelling house prices based on a wide set of features. \n",
    "\n",
    "The only rule is to use models covered by the subject's syllabus.\n",
    "\n"
   ]
  },
  {
   "cell_type": "markdown",
   "metadata": {},
   "source": [
    "## Data cleansing "
   ]
  },
  {
   "cell_type": "code",
   "execution_count": null,
   "metadata": {},
   "outputs": [],
   "source": []
  },
  {
   "cell_type": "markdown",
   "metadata": {},
   "source": [
    "\n",
    "## Feature selection and engineering\n",
    "\n"
   ]
  },
  {
   "cell_type": "code",
   "execution_count": null,
   "metadata": {},
   "outputs": [],
   "source": []
  },
  {
   "cell_type": "markdown",
   "metadata": {},
   "source": [
    "## Model selection and tuning\n",
    "\n",
    "Starting out from the dataset produced by the feature selection & engineering process, we carried out model training and evaluation on these models:\n",
    "* Linear Regression  (Un nivel por encima de lasso y ridge en la jerarquia)??\n",
    "* Lasso Regression\n",
    "* Ridge Regression\n",
    "* Decision trees (Un nivel por encima de rf y xgboost en la jerarquia)??\n",
    "* Random Forest\n",
    "* XGBoost\n",
    "\n",
    "Among these models the ones that without fine tuning gave best results were *Linear Regression*, *Ridge Regression* and *XGBoost*."
   ]
  },
  {
   "cell_type": "markdown",
   "metadata": {},
   "source": [
    "### Ridge regression:"
   ]
  },
  {
   "cell_type": "code",
   "execution_count": null,
   "metadata": {},
   "outputs": [],
   "source": [
    "# Load the dataset.\n",
    "train = pd.read_csv('training_FE_data.csv', index_col=0)\n",
    "submission_set = pd.read_csv('test_FE_data.csv', index_col=0)\n",
    "\n",
    "X = train.loc[:, train.columns != 'SalePrice']\n",
    "y = train.loc[:, 'SalePrice']\n",
    "\n",
    "\n",
    "#X_train, X_test, y_train, y_test = train_test_split(X, y, test_size=0.20, random_state=42)\n",
    "ridge_regression = Ridge(normalize=True, max_iter=1e6,alpha=1)\n",
    "\n",
    "\n",
    "scores = cross_val_score(ridge_regression, X, y, cv=4)\n",
    "print(scores)\n",
    "\n",
    "ridge_regression.fit(X, y)\n",
    "result = ridge_regression.predict(submission_set)\n",
    "submission_set['SalePrice'] = result\n",
    "submission = submission_set[['SalePrice']]\n",
    "submission.to_csv('FirstRidgeRegression.csv')"
   ]
  },
  {
   "cell_type": "code",
   "execution_count": null,
   "metadata": {},
   "outputs": [],
   "source": []
  }
 ],
 "metadata": {
  "kernelspec": {
   "display_name": "Python 3",
   "language": "python",
   "name": "python3"
  },
  "language_info": {
   "codemirror_mode": {
    "name": "ipython",
    "version": 3
   },
   "file_extension": ".py",
   "mimetype": "text/x-python",
   "name": "python",
   "nbconvert_exporter": "python",
   "pygments_lexer": "ipython3",
   "version": "3.7.0"
  }
 },
 "nbformat": 4,
 "nbformat_minor": 2
}
