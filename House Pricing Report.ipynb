{
 "cells": [
  {
   "cell_type": "markdown",
   "metadata": {},
   "source": [
    "# \"House Prices: Advanced Regression Techniques\" Kaggle competition\n",
    "\n",
    "## Authors: David Fernández & Rafael Lazcano\n",
    "\n",
    "## Introduction:\n",
    "\n",
    "This document is the final report for the \"Artificial Intelligence and Machine Learning\" subject. It illustrates a whole process of prediction, especifically the challenge of modelling house prices based on a wide set of features. \n",
    "\n",
    "The only rule is to use models covered by the subject's syllabus.\n",
    "\n"
   ]
  },
  {
   "cell_type": "markdown",
   "metadata": {},
   "source": [
    "## Data cleansing "
   ]
  },
  {
   "cell_type": "markdown",
   "metadata": {},
   "source": [
    "    - objectivos generales\n",
    "    - fill na values: 0, media\n",
    "    - one hot encode: por defecto para categorías, pero feature engineering a veces convierte categorías en valores ordinales\n",
    "    - merge one hot encoded columns"
   ]
  },
  {
   "cell_type": "markdown",
   "metadata": {},
   "source": [
    "\n",
    "## Feature selection and engineering\n",
    "\n"
   ]
  },
  {
   "cell_type": "markdown",
   "metadata": {},
   "source": [
    "    - objetivos generales\n",
    "    - explicar funciones:\n",
    "        - sum_SF, Baths, Porch\n",
    "        - categorical to ordinal: Some textual features(e.g.basement quality) should be handled as numerical (i.e.ordinal) values\n",
    "        - transform_sales_to_log_of_sales: closer to normal distribution. Better formance\n",
    "        - add_expensive_neighborhood_feature: binary classifier de si es caro\n",
    "        - add_home_quality\n",
    "        - add...\n",
    "        - remove.\n",
    "    - todas las funciones modifican training set, pero algunas:\n",
    "        - también el test set, otras no\n",
    "        - algunas implican modificar dinámicamente los features del test set\n",
    "        \n",
    "    - FORWARD SELECTION OF FE FUNCTIONS:\n",
    "        - primero, brute force de todo el espacio: inabarcable\n",
    "        -después, forward selection algorithm: choose one, fix it, search next one. Cubre espacio de las combinaciones demasiado pequeño (mínimo local). Tradeoff: seleccionar tres mejores funciones en cada step."
   ]
  },
  {
   "cell_type": "markdown",
   "metadata": {},
   "source": [
    "## Model selection and tuning\n",
    "\n",
    "Starting out from the dataset produced by the feature selection & engineering process, we carried out model training and evaluation on these models:\n",
    "* Linear Regression  (Un nivel por encima de lasso y ridge en la jerarquia)??\n",
    "* Lasso Regression\n",
    "* Ridge Regression\n",
    "* Decision trees (Un nivel por encima de rf y xgboost en la jerarquia)??\n",
    "* Random Forest\n",
    "* XGBoost\n",
    "\n",
    "Among these models the ones that without fine tuning gave best results were *Linear Regression*, *Ridge Regression* and *XGBoost*."
   ]
  },
  {
   "cell_type": "markdown",
   "metadata": {},
   "source": [
    "### Ridge regression:"
   ]
  },
  {
   "cell_type": "code",
   "execution_count": null,
   "metadata": {},
   "outputs": [],
   "source": [
    "# Load the dataset.\n",
    "train = pd.read_csv('training_FE_data.csv', index_col=0)\n",
    "submission_set = pd.read_csv('test_FE_data.csv', index_col=0)\n",
    "\n",
    "X = train.loc[:, train.columns != 'SalePrice']\n",
    "y = train.loc[:, 'SalePrice']\n",
    "\n",
    "\n",
    "#X_train, X_test, y_train, y_test = train_test_split(X, y, test_size=0.20, random_state=42)\n",
    "ridge_regression = Ridge(normalize=True, max_iter=1e6,alpha=1)\n",
    "\n",
    "\n",
    "scores = cross_val_score(ridge_regression, X, y, cv=4)\n",
    "print(scores)\n",
    "\n",
    "ridge_regression.fit(X, y)\n",
    "result = ridge_regression.predict(submission_set)\n",
    "submission_set['SalePrice'] = result\n",
    "submission = submission_set[['SalePrice']]\n",
    "submission.to_csv('FirstRidgeRegression.csv')"
   ]
  },
  {
   "cell_type": "markdown",
   "metadata": {},
   "source": [
    "    - modelos\n",
    "    - tuneado hiper-parámetros\n",
    "    - ensemble / stacking"
   ]
  },
  {
   "cell_type": "markdown",
   "metadata": {},
   "source": [
    "## Stacking"
   ]
  },
  {
   "cell_type": "code",
   "execution_count": 1,
   "metadata": {},
   "outputs": [],
   "source": [
    "import warnings\n",
    "warnings.filterwarnings(\"ignore\")\n",
    "\n",
    "import numpy as np\n",
    "import pandas as pd\n",
    "from sklearn.pipeline import make_pipeline\n",
    "from sklearn.linear_model import LassoCV, Lasso, RidgeCV, Ridge\n",
    "from sklearn.preprocessing import RobustScaler\n",
    "from sklearn.linear_model import LinearRegression\n",
    "from sklearn.model_selection import GridSearchCV\n",
    "from sklearn.ensemble import RandomForestRegressor,  GradientBoostingRegressor\n",
    "from sklearn.tree import DecisionTreeRegressor\n",
    "from sklearn.model_selection import train_test_split"
   ]
  },
  {
   "cell_type": "code",
   "execution_count": 2,
   "metadata": {},
   "outputs": [],
   "source": [
    "clean_train = pd.read_csv('training_FE_data.csv', index_col=0)\n",
    "clean_test = pd.read_csv('test_FE_data.csv', index_col=0)\n",
    "\n",
    "X = clean_train.loc[:, clean_train.columns != 'SalePrice']\n",
    "y = clean_train.loc[:, 'SalePrice']\n"
   ]
  },
  {
   "cell_type": "code",
   "execution_count": 3,
   "metadata": {},
   "outputs": [],
   "source": [
    "\"\"\"\n",
    "lassoCV = LassoCV(alphas=[0.0001, 0.0005, 0.001, 0.005, 0.01, 0.05, 0.1, 0.5, 1], cv=5, random_state=1)\n",
    "\"\"\""
   ]
  },
  {
   "cell_type": "code",
   "execution_count": 4,
   "metadata": {},
   "outputs": [],
   "source": [
    "bestLasso = make_pipeline(RobustScaler(), Lasso(alpha =0.0001, random_state=1))"
   ]
  },
  {
   "cell_type": "code",
   "execution_count": 5,
   "metadata": {
    "scrolled": true
   },
   "outputs": [],
   "source": [
    "bestLinear = make_pipeline(RobustScaler(), LinearRegression())"
   ]
  },
  {
   "cell_type": "code",
   "execution_count": 6,
   "metadata": {
    "scrolled": true
   },
   "outputs": [
    {
     "data": {
      "text/plain": [
       "\"\\nparameters = {'n_estimators': [500, 1000, 2000, 3000, 5000], \\n              'learning_rate': [0.05, 0.1, 0.5, 1],\\n              'max_depth': [3, 4, 5],\\n              'min_samples_leaf': [5, 10, 15, 20],\\n              'min_samples_split': [2, 5, 7, 10]}\\nGBoost = GridSearchCV(GradientBoostingRegressor(max_features='sqrt', loss='huber', random_state=1), parameters, cv=5)\\nGBoost.fit(X, y)\\nGBoost.best_estimator_\\n\""
      ]
     },
     "execution_count": 6,
     "metadata": {},
     "output_type": "execute_result"
    }
   ],
   "source": [
    "\"\"\"\n",
    "parameters = {'n_estimators': [500, 1000, 2000, 3000, 5000], \n",
    "              'learning_rate': [0.05, 0.1, 0.5, 1],\n",
    "              'max_depth': [3, 4, 5],\n",
    "              'min_samples_leaf': [5, 10, 15, 20],\n",
    "              'min_samples_split': [2, 5, 7, 10]}\n",
    "GBoost = GridSearchCV(GradientBoostingRegressor(max_features='sqrt', loss='huber', random_state=1), parameters, cv=5)\n",
    "GBoost.fit(X, y)\n",
    "GBoost.best_estimator_\n",
    "\"\"\""
   ]
  },
  {
   "cell_type": "code",
   "execution_count": 7,
   "metadata": {},
   "outputs": [],
   "source": [
    "bestGBoost = GradientBoostingRegressor(n_estimators=2000, learning_rate=0.05,\n",
    "                                   max_depth=5, max_features='sqrt',\n",
    "                                   min_samples_leaf=10, min_samples_split=7, \n",
    "                                   loss='huber', random_state=1)"
   ]
  },
  {
   "cell_type": "code",
   "execution_count": 8,
   "metadata": {},
   "outputs": [
    {
     "data": {
      "text/plain": [
       "1.0"
      ]
     },
     "execution_count": 8,
     "metadata": {},
     "output_type": "execute_result"
    }
   ],
   "source": [
    "ridge = RidgeCV(alphas=(0.001, 0.005, 0.1, 0.5, 1))\n",
    "ridge.fit(X, y)\n",
    "ridge.alpha_"
   ]
  },
  {
   "cell_type": "code",
   "execution_count": 9,
   "metadata": {},
   "outputs": [],
   "source": [
    "bestRidge = Ridge(alpha=1)"
   ]
  },
  {
   "cell_type": "code",
   "execution_count": 10,
   "metadata": {},
   "outputs": [
    {
     "data": {
      "text/plain": [
       "\"\\nparameters = {'max_depth': [3, 5, 10],\\n              'min_samples_leaf': [5, 10, 15, 20],\\n              'min_samples_split': [2, 5, 7, 10],\\n              'max_features': ['auto', 'sqrt', 'log2']}\\ndecisionTree = GridSearchCV(DecisionTreeRegressor(random_state=1), parameters, cv=5)\\ndecisionTree.fit(X, y)\\ndecisionTree.best_estimator_\\n\""
      ]
     },
     "execution_count": 10,
     "metadata": {},
     "output_type": "execute_result"
    }
   ],
   "source": [
    "\"\"\"\n",
    "parameters = {'max_depth': [3, 5, 10],\n",
    "              'min_samples_leaf': [5, 10, 15, 20],\n",
    "              'min_samples_split': [2, 5, 7, 10],\n",
    "              'max_features': ['auto', 'sqrt', 'log2']}\n",
    "decisionTree = GridSearchCV(DecisionTreeRegressor(random_state=1), parameters, cv=5)\n",
    "decisionTree.fit(X, y)\n",
    "decisionTree.best_estimator_\n",
    "\"\"\""
   ]
  },
  {
   "cell_type": "code",
   "execution_count": 11,
   "metadata": {},
   "outputs": [],
   "source": [
    "bestDecisionTree = DecisionTreeRegressor(criterion='mse', max_depth=10, max_features='auto',\n",
    "           max_leaf_nodes=None, min_impurity_decrease=0.0,\n",
    "           min_impurity_split=None, min_samples_leaf=15,\n",
    "           min_samples_split=2, min_weight_fraction_leaf=0.0,\n",
    "           presort=False, random_state=1, splitter='best')"
   ]
  },
  {
   "cell_type": "code",
   "execution_count": 12,
   "metadata": {},
   "outputs": [
    {
     "data": {
      "text/plain": [
       "\"\\nparameters = {\\n              'max_depth': [3, 5, 7, 10, 50, None],\\n              'min_samples_leaf': [5, 10, 15, 20],\\n              'min_samples_split': [2, 5, 7, 10],\\n              'max_features': ['auto', 'sqrt', 'log2']}\\nrandomForest = GridSearchCV(RandomForestRegressor(random_state=1), parameters, cv=5)\\nrandomForest.fit(X, y)\\nrandomForest.best_estimator_\\n\""
      ]
     },
     "execution_count": 12,
     "metadata": {},
     "output_type": "execute_result"
    }
   ],
   "source": [
    "\"\"\"\n",
    "parameters = {\n",
    "              'max_depth': [3, 5, 7, 10, 50, None],\n",
    "              'min_samples_leaf': [5, 10, 15, 20],\n",
    "              'min_samples_split': [2, 5, 7, 10],\n",
    "              'max_features': ['auto', 'sqrt', 'log2']}\n",
    "randomForest = GridSearchCV(RandomForestRegressor(random_state=1), parameters, cv=5)\n",
    "randomForest.fit(X, y)\n",
    "randomForest.best_estimator_\n",
    "\"\"\""
   ]
  },
  {
   "cell_type": "code",
   "execution_count": 13,
   "metadata": {},
   "outputs": [],
   "source": [
    "bestRandomForest = RandomForestRegressor(bootstrap=True, criterion='mse', max_depth=10,\n",
    "           max_features='log2', max_leaf_nodes=None,\n",
    "           min_impurity_decrease=0.0, min_impurity_split=None,\n",
    "           min_samples_leaf=5, min_samples_split=2,\n",
    "           min_weight_fraction_leaf=0.0, n_estimators=10, n_jobs=None,\n",
    "           oob_score=False, random_state=1, verbose=0, warm_start=False)"
   ]
  },
  {
   "cell_type": "code",
   "execution_count": 14,
   "metadata": {},
   "outputs": [],
   "source": [
    "X_train, X_test, y_train, y_test = train_test_split(X, y, test_size=0.2, random_state=1)"
   ]
  },
  {
   "cell_type": "code",
   "execution_count": 15,
   "metadata": {},
   "outputs": [],
   "source": [
    "bestModels = [bestLasso, bestLinear, bestRidge, bestGBoost, bestRidge, bestDecisionTree, bestRandomForest]\n",
    "for model in bestModels:\n",
    "    model.fit(X_train, y_train)"
   ]
  },
  {
   "cell_type": "code",
   "execution_count": null,
   "metadata": {},
   "outputs": [],
   "source": [
    "import itertools\n",
    "from sklearn.metrics import r2_score\n",
    "weights = [0, 0.1, 0.5, 1] \n",
    "\n",
    "all_results = []\n",
    "for weights in itertools.product(weights, repeat=len(bestModels)):\n",
    "    if np.sum(weights) == 0 :\n",
    "        continue\n",
    "    predictions = np.column_stack([\n",
    "        model.predict(X_test) for model in bestModels\n",
    "    ])\n",
    "    weighted_predictions = predictions * weights\n",
    "    summed_predictions = np.sum(weighted_predictions, axis=1)\n",
    "    result_predictions = summed_predictions / np.sum(weights)\n",
    "    score = r2_score(y_test, result_predictions)\n",
    "    all_results.append((weights, score))\n",
    "    print(weights)\n",
    "\n",
    "all_results.sort(key=lambda tup: tup[1], reverse=True)\n",
    "all_results\n"
   ]
  },
  {
   "cell_type": "code",
   "execution_count": 16,
   "metadata": {},
   "outputs": [],
   "source": [
    "best_weights = (0, 0, 0.1, 0.95, 0.1, 0, 0.1)\n",
    "predictions = np.column_stack([\n",
    "        model.predict(clean_test) for model in bestModels\n",
    "    ])\n",
    "weighted_predictions = predictions * best_weights\n",
    "summed_predictions = np.sum(weighted_predictions, axis=1)\n",
    "result_predictions = summed_predictions / np.sum(best_weights)\n",
    "\n",
    "result_predictions = np.expm1(result_predictions)"
   ]
  },
  {
   "cell_type": "code",
   "execution_count": 17,
   "metadata": {},
   "outputs": [],
   "source": [
    "clean_test['SalePrice'] = result_predictions\n",
    "submission = clean_test[['SalePrice']]\n",
    "submission.to_csv('stacked.csv')"
   ]
  }
 ],
 "metadata": {
  "kernelspec": {
   "display_name": "Python 3",
   "language": "python",
   "name": "python3"
  },
  "language_info": {
   "codemirror_mode": {
    "name": "ipython",
    "version": 3
   },
   "file_extension": ".py",
   "mimetype": "text/x-python",
   "name": "python",
   "nbconvert_exporter": "python",
   "pygments_lexer": "ipython3",
   "version": "3.7.1"
  }
 },
 "nbformat": 4,
 "nbformat_minor": 2
}
